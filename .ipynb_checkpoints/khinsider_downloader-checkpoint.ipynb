{
 "cells": [
  {
   "cell_type": "code",
   "execution_count": null,
   "metadata": {
    "ExecuteTime": {
     "end_time": "2020-08-24T11:05:15.556108Z",
     "start_time": "2020-08-24T11:05:15.547416Z"
    }
   },
   "outputs": [],
   "source": [
    "import lxml\n",
    "from lxml import html\n",
    "import requests as re\n",
    "import urllib"
   ]
  },
  {
   "cell_type": "code",
   "execution_count": null,
   "metadata": {
    "ExecuteTime": {
     "end_time": "2020-08-24T11:05:16.060544Z",
     "start_time": "2020-08-24T11:05:16.054158Z"
    }
   },
   "outputs": [],
   "source": [
    "url = \"https://downloads.khinsider.com/game-soundtracks/album/pokemon-red-green-blue-yellow\"\n",
    "# url = \"https://downloads.khinsider.com/game-soundtracks/album/pokemon-gold-silver\""
   ]
  },
  {
   "cell_type": "code",
   "execution_count": null,
   "metadata": {
    "ExecuteTime": {
     "end_time": "2020-08-24T11:21:17.923278Z",
     "start_time": "2020-08-24T11:21:17.106080Z"
    }
   },
   "outputs": [],
   "source": [
    "response = re.get(url)\n",
    "root = lxml.html.fromstring(response.text)\n",
    "links = root.xpath('//*[@class=\"playlistDownloadSong\"]/a/@href')\n",
    "links = [\"https://downloads.khinsider.com\" + link for link in links]\n",
    "print(links[0])\n",
    "print(len(links))"
   ]
  },
  {
   "cell_type": "code",
   "execution_count": null,
   "metadata": {
    "ExecuteTime": {
     "end_time": "2020-08-24T11:42:07.736478Z",
     "start_time": "2020-08-24T11:42:07.589825Z"
    },
    "scrolled": false
   },
   "outputs": [],
   "source": [
    "for link in links:\n",
    "    \n",
    "    response = re.get(link)\n",
    "    root = lxml.html.fromstring(response.text)\n",
    "    \n",
    "    for page_link in root.findall(\".//a\"):\n",
    "        mp3_link = page_link.get('href')\n",
    "        if mp3_link.endswith(\".mp3\"):\n",
    "#             print(mp3_link)\n",
    "            download_link = mp3_link\n",
    "    \n",
    "    if download_link.find('/'):\n",
    "        filename = download_link.rsplit('/', 1)[1]\n",
    "        filename = urllib.parse.unquote(filename).replace(' ', '_')\n",
    "#         print(filename)\n",
    "        \n",
    "    music = re.get(download_link)\n",
    "    with open(filename, 'wb') as f:\n",
    "        f.write(music.content)"
   ]
  }
 ],
 "metadata": {
  "kernelspec": {
   "display_name": "Python 3",
   "language": "python",
   "name": "python3"
  },
  "language_info": {
   "codemirror_mode": {
    "name": "ipython",
    "version": 3
   },
   "file_extension": ".py",
   "mimetype": "text/x-python",
   "name": "python",
   "nbconvert_exporter": "python",
   "pygments_lexer": "ipython3",
   "version": "3.8.5"
  },
  "varInspector": {
   "cols": {
    "lenName": 16,
    "lenType": 16,
    "lenVar": 40
   },
   "kernels_config": {
    "python": {
     "delete_cmd_postfix": "",
     "delete_cmd_prefix": "del ",
     "library": "var_list.py",
     "varRefreshCmd": "print(var_dic_list())"
    },
    "r": {
     "delete_cmd_postfix": ") ",
     "delete_cmd_prefix": "rm(",
     "library": "var_list.r",
     "varRefreshCmd": "cat(var_dic_list()) "
    }
   },
   "types_to_exclude": [
    "module",
    "function",
    "builtin_function_or_method",
    "instance",
    "_Feature"
   ],
   "window_display": false
  }
 },
 "nbformat": 4,
 "nbformat_minor": 4
}
