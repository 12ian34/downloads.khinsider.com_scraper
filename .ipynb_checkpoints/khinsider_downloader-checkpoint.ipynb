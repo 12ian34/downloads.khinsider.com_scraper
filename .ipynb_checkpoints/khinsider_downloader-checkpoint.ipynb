{
 "cells": [
  {
   "cell_type": "code",
   "execution_count": 6,
   "metadata": {
    "ExecuteTime": {
     "end_time": "2020-08-24T11:05:15.556108Z",
     "start_time": "2020-08-24T11:05:15.547416Z"
    }
   },
   "outputs": [],
   "source": [
    "import lxml\n",
    "from lxml import html\n",
    "import requests as re\n",
    "import urllib"
   ]
  },
  {
   "cell_type": "code",
   "execution_count": 7,
   "metadata": {
    "ExecuteTime": {
     "end_time": "2020-08-24T11:05:16.060544Z",
     "start_time": "2020-08-24T11:05:16.054158Z"
    }
   },
   "outputs": [],
   "source": [
    "url = \"https://downloads.khinsider.com/game-soundtracks/album/pokemon-red-green-blue-yellow\"\n",
    "# url = \"https://downloads.khinsider.com/game-soundtracks/album/pokemon-gold-silver\""
   ]
  },
  {
   "cell_type": "code",
   "execution_count": 11,
   "metadata": {
    "ExecuteTime": {
     "end_time": "2020-08-24T11:21:17.923278Z",
     "start_time": "2020-08-24T11:21:17.106080Z"
    }
   },
   "outputs": [
    {
     "name": "stdout",
     "output_type": "stream",
     "text": [
      "https://downloads.khinsider.com/game-soundtracks/album/pokemon-red-green-blue-yellow/01%2520Opening%2520Movie%2520%2528Red%252C%2520Green%2520%2526%2520Blue%2520Version%2529.mp3\n",
      "57\n"
     ]
    }
   ],
   "source": [
    "response = re.get(url)\n",
    "root = lxml.html.fromstring(response.text)\n",
    "links = root.xpath('//*[@class=\"playlistDownloadSong\"]/a/@href')\n",
    "links = [\"https://downloads.khinsider.com\" + link for link in links]\n",
    "print(links[0])\n",
    "print(len(links))"
   ]
  },
  {
   "cell_type": "code",
   "execution_count": 10,
   "metadata": {
    "ExecuteTime": {
     "end_time": "2020-08-24T11:07:07.419356Z",
     "start_time": "2020-08-24T11:05:23.988927Z"
    },
    "scrolled": false
   },
   "outputs": [
    {
     "name": "stdout",
     "output_type": "stream",
     "text": [
      "https://vgmdownloads.com/soundtracks/pokemon-red-green-blue-yellow/omrdiuet/01%20Opening%20Movie%20%28Red%2C%20Green%20%26%20Blue%20Version%29.mp3\n",
      "01_Opening_Movie_(Red,_Green_&_Blue_Version).mp3\n",
      "https://vgmdownloads.com/soundtracks/pokemon-red-green-blue-yellow/qouviedi/02%20Title%20Screen.mp3\n",
      "02_Title_Screen.mp3\n",
      "https://vgmdownloads.com/soundtracks/pokemon-red-green-blue-yellow/aacccoyc/03%20Opening%20Movie%20%28Yellow%20Version%29.mp3\n",
      "03_Opening_Movie_(Yellow_Version).mp3\n",
      "https://vgmdownloads.com/soundtracks/pokemon-red-green-blue-yellow/iqmehmlk/04%20Pallet%20Town.mp3\n",
      "04_Pallet_Town.mp3\n",
      "https://vgmdownloads.com/soundtracks/pokemon-red-green-blue-yellow/waxbnhci/05%20Professor%20Oak.mp3\n",
      "05_Professor_Oak.mp3\n",
      "https://vgmdownloads.com/soundtracks/pokemon-red-green-blue-yellow/tjqpermy/06%20Hurry%20Along.mp3\n",
      "06_Hurry_Along.mp3\n",
      "https://vgmdownloads.com/soundtracks/pokemon-red-green-blue-yellow/ogphshzm/07%20Oak%20Poke%E2%80%99mon%20Research%20Lab.mp3\n",
      "07_Oak_Poke’mon_Research_Lab.mp3\n",
      "https://vgmdownloads.com/soundtracks/pokemon-red-green-blue-yellow/hhvwjgdb/08%20Fanfare%20Poke%E2%80%99mon%20Obtained.mp3\n",
      "08_Fanfare_Poke’mon_Obtained.mp3\n",
      "https://vgmdownloads.com/soundtracks/pokemon-red-green-blue-yellow/psrzmtdt/09%20A%20Rival%20Appears.mp3\n",
      "09_A_Rival_Appears.mp3\n",
      "https://vgmdownloads.com/soundtracks/pokemon-red-green-blue-yellow/nbczoqlo/10%20Battle%21%20%28Trainer%20Battle%29.mp3\n",
      "10_Battle!_(Trainer_Battle).mp3\n",
      "https://vgmdownloads.com/soundtracks/pokemon-red-green-blue-yellow/ozydfkvc/11%20Fanfare%20Level%20Up.mp3\n",
      "11_Fanfare_Level_Up.mp3\n",
      "https://vgmdownloads.com/soundtracks/pokemon-red-green-blue-yellow/wkbpunai/12%20Victory%21%20%28Trainer%20Battle%29.mp3\n",
      "12_Victory!_(Trainer_Battle).mp3\n",
      "https://vgmdownloads.com/soundtracks/pokemon-red-green-blue-yellow/qfevjquu/13%20Route%201.mp3\n",
      "13_Route_1.mp3\n",
      "https://vgmdownloads.com/soundtracks/pokemon-red-green-blue-yellow/shjkskcv/14%20Battle%21%20%28Wild%20Poke%E2%80%99mon%29.mp3\n",
      "14_Battle!_(Wild_Poke’mon).mp3\n",
      "https://vgmdownloads.com/soundtracks/pokemon-red-green-blue-yellow/xjaxtdkb/15%20Victory%21%20%28Wild%20Poke%E2%80%99mon%29.mp3\n",
      "15_Victory!_(Wild_Poke’mon).mp3\n",
      "https://vgmdownloads.com/soundtracks/pokemon-red-green-blue-yellow/cbwoujvx/16%20Fanfare%20Item%20Obtained.mp3\n",
      "16_Fanfare_Item_Obtained.mp3\n",
      "https://vgmdownloads.com/soundtracks/pokemon-red-green-blue-yellow/lisusuyc/17%20Viridian%20City.mp3\n",
      "17_Viridian_City.mp3\n",
      "https://vgmdownloads.com/soundtracks/pokemon-red-green-blue-yellow/mtpcvzfm/18%20Poke%E2%80%99mon%20Center.mp3\n",
      "18_Poke’mon_Center.mp3\n",
      "https://vgmdownloads.com/soundtracks/pokemon-red-green-blue-yellow/rwwmjjpt/19%20Poke%E2%80%99mon%20Healed.mp3\n",
      "19_Poke’mon_Healed.mp3\n",
      "https://vgmdownloads.com/soundtracks/pokemon-red-green-blue-yellow/wtutcrua/20%20Printer%20Menu.mp3\n",
      "20_Printer_Menu.mp3\n",
      "https://vgmdownloads.com/soundtracks/pokemon-red-green-blue-yellow/ahgmqsrv/21%20Fanfare%20Poke%E2%80%99mon%20Caught.mp3\n",
      "21_Fanfare_Poke’mon_Caught.mp3\n",
      "https://vgmdownloads.com/soundtracks/pokemon-red-green-blue-yellow/iqbpfqir/22%20Fanfare%20Trade%20Poke%E2%80%99mon%20Received.mp3\n",
      "22_Fanfare_Trade_Poke’mon_Received.mp3\n",
      "https://vgmdownloads.com/soundtracks/pokemon-red-green-blue-yellow/pzpzqnox/23%20Viridian%20Forest.mp3\n",
      "23_Viridian_Forest.mp3\n",
      "https://vgmdownloads.com/soundtracks/pokemon-red-green-blue-yellow/nbjyvreo/24%20A%20Trainer%20Appears%20%28Boy%20Version%29.mp3\n",
      "24_A_Trainer_Appears_(Boy_Version).mp3\n",
      "https://vgmdownloads.com/soundtracks/pokemon-red-green-blue-yellow/awfqrdks/25%20Jigglypuff%27s%20Song.mp3\n",
      "25_Jigglypuff's_Song.mp3\n",
      "https://vgmdownloads.com/soundtracks/pokemon-red-green-blue-yellow/sxmkviay/26%20Fanfare%20Professor%20Oak%27s%20Evaluation.mp3\n",
      "26_Fanfare_Professor_Oak's_Evaluation.mp3\n",
      "https://vgmdownloads.com/soundtracks/pokemon-red-green-blue-yellow/rgyatngs/27%20Evolution.mp3\n",
      "27_Evolution.mp3\n",
      "https://vgmdownloads.com/soundtracks/pokemon-red-green-blue-yellow/acphvdzp/28%20Poke%E2%80%99mon%20Gym.mp3\n",
      "28_Poke’mon_Gym.mp3\n",
      "https://vgmdownloads.com/soundtracks/pokemon-red-green-blue-yellow/rxxtnnxh/29%20Battle%21%20%28Gym%20Leader%20Battle%29.mp3\n",
      "29_Battle!_(Gym_Leader_Battle).mp3\n",
      "https://vgmdownloads.com/soundtracks/pokemon-red-green-blue-yellow/ammehzgo/30%20Victory%21%20%28Gym%20Leader%20Battle%29.mp3\n",
      "30_Victory!_(Gym_Leader_Battle).mp3\n",
      "https://vgmdownloads.com/soundtracks/pokemon-red-green-blue-yellow/riticptf/31%20Route%203.mp3\n",
      "31_Route_3.mp3\n",
      "https://vgmdownloads.com/soundtracks/pokemon-red-green-blue-yellow/usddriog/32%20A%20Trainer%20Appears%20%28Girl%20Version%29.mp3\n",
      "32_A_Trainer_Appears_(Girl_Version).mp3\n",
      "https://vgmdownloads.com/soundtracks/pokemon-red-green-blue-yellow/kkmzkxxt/33%20Mt.%20Moon.mp3\n",
      "33_Mt._Moon.mp3\n",
      "https://vgmdownloads.com/soundtracks/pokemon-red-green-blue-yellow/kmqqcfmx/34%20A%20Trainer%20Appears%20%28Bad%20Guy%20Version%29.mp3\n",
      "34_A_Trainer_Appears_(Bad_Guy_Version).mp3\n",
      "https://vgmdownloads.com/soundtracks/pokemon-red-green-blue-yellow/utwjczru/35%20A%20Trainer%20Appears%20%28Rocket%20Duo%20Version%29.mp3\n",
      "35_A_Trainer_Appears_(Rocket_Duo_Version).mp3\n",
      "https://vgmdownloads.com/soundtracks/pokemon-red-green-blue-yellow/dggdqhqf/36%20Cerulean%20City.mp3\n",
      "36_Cerulean_City.mp3\n",
      "https://vgmdownloads.com/soundtracks/pokemon-red-green-blue-yellow/mxbqsoqb/37%20Route%2024%20-%20Welcome%20to%20the%20World%20of%20Poke%E2%80%99mon%21.mp3\n",
      "37_Route_24_-_Welcome_to_the_World_of_Poke’mon!.mp3\n",
      "https://vgmdownloads.com/soundtracks/pokemon-red-green-blue-yellow/cgnqshaq/38%20Vermilion%20City.mp3\n",
      "38_Vermilion_City.mp3\n",
      "https://vgmdownloads.com/soundtracks/pokemon-red-green-blue-yellow/sjnppzre/39%20The%20S.S.%20Anne.mp3\n",
      "39_The_S.S._Anne.mp3\n",
      "https://vgmdownloads.com/soundtracks/pokemon-red-green-blue-yellow/dgdrvaiu/40%20Cycling.mp3\n",
      "40_Cycling.mp3\n",
      "https://vgmdownloads.com/soundtracks/pokemon-red-green-blue-yellow/dnhbsmck/41%20Route%2011.mp3\n",
      "41_Route_11.mp3\n",
      "https://vgmdownloads.com/soundtracks/pokemon-red-green-blue-yellow/ggywsdvv/42%20Lavender%20Town.mp3\n",
      "42_Lavender_Town.mp3\n",
      "https://vgmdownloads.com/soundtracks/pokemon-red-green-blue-yellow/kznovpyx/43%20Celadon%20City.mp3\n",
      "43_Celadon_City.mp3\n",
      "https://vgmdownloads.com/soundtracks/pokemon-red-green-blue-yellow/prerqmty/44%20Rocket%20Game%20Corner.mp3\n",
      "44_Rocket_Game_Corner.mp3\n",
      "https://vgmdownloads.com/soundtracks/pokemon-red-green-blue-yellow/shiuxtfw/45%20Rocket%20Hideout.mp3\n",
      "45_Rocket_Hideout.mp3\n",
      "https://vgmdownloads.com/soundtracks/pokemon-red-green-blue-yellow/ghlckyvu/46%20Sylph%20Co..mp3\n",
      "46_Sylph_Co..mp3\n",
      "https://vgmdownloads.com/soundtracks/pokemon-red-green-blue-yellow/ivwyncbi/47%20Poke%E2%80%99mon%20Tower.mp3\n",
      "47_Poke’mon_Tower.mp3\n",
      "https://vgmdownloads.com/soundtracks/pokemon-red-green-blue-yellow/iymqaumw/48%20Poke%E2%80%99%20Flute.mp3\n",
      "48_Poke’_Flute.mp3\n",
      "https://vgmdownloads.com/soundtracks/pokemon-red-green-blue-yellow/qrovhpgl/49%20Pikachu%27s%20Beach.mp3\n",
      "49_Pikachu's_Beach.mp3\n",
      "https://vgmdownloads.com/soundtracks/pokemon-red-green-blue-yellow/rcyzbbqh/50%20Surf.mp3\n",
      "50_Surf.mp3\n",
      "https://vgmdownloads.com/soundtracks/pokemon-red-green-blue-yellow/unknzopv/51%20Cinnabar%20Island.mp3\n",
      "51_Cinnabar_Island.mp3\n",
      "https://vgmdownloads.com/soundtracks/pokemon-red-green-blue-yellow/fhghnffq/52%20Poke%E2%80%99mon%20Mansion.mp3\n",
      "52_Poke’mon_Mansion.mp3\n",
      "https://vgmdownloads.com/soundtracks/pokemon-red-green-blue-yellow/vdqcdtjt/53%20Victory%20Road.mp3\n",
      "53_Victory_Road.mp3\n",
      "https://vgmdownloads.com/soundtracks/pokemon-red-green-blue-yellow/figvtmqo/54%20Final%20Battle%21%20%28Rival%29.mp3\n",
      "54_Final_Battle!_(Rival).mp3\n",
      "https://vgmdownloads.com/soundtracks/pokemon-red-green-blue-yellow/khecddgj/55%20Hall%20of%20Fame.mp3\n",
      "55_Hall_of_Fame.mp3\n",
      "https://vgmdownloads.com/soundtracks/pokemon-red-green-blue-yellow/klfblijt/56%20Ending.mp3\n",
      "56_Ending.mp3\n",
      "https://vgmdownloads.com/soundtracks/pokemon-red-green-blue-yellow/ifumteqc/57%20Unused%20Track.mp3\n",
      "57_Unused_Track.mp3\n"
     ]
    }
   ],
   "source": [
    "for link in links:\n",
    "    \n",
    "    response = re.get(link)\n",
    "    root = lxml.html.fromstring(response.text)\n",
    "    \n",
    "    for page_link in root.findall(\".//a\"):\n",
    "        mp3_link = page_link.get('href')\n",
    "        if mp3_link.endswith(\".mp3\"):\n",
    "            print(mp3_link)\n",
    "            download_link = mp3_link\n",
    "    \n",
    "    if download_link.find('/'):\n",
    "        filename = download_link.rsplit('/', 1)[1]\n",
    "        filename = urllib.parse.unquote(filename).replace(' ', '_')\n",
    "        print(filename)\n",
    "        \n",
    "    music = re.get(download_link)\n",
    "    with open(filename, 'wb') as f:\n",
    "        f.write(music.content)"
   ]
  },
  {
   "cell_type": "code",
   "execution_count": null,
   "metadata": {},
   "outputs": [],
   "source": []
  }
 ],
 "metadata": {
  "kernelspec": {
   "display_name": "Python 3",
   "language": "python",
   "name": "python3"
  },
  "language_info": {
   "codemirror_mode": {
    "name": "ipython",
    "version": 3
   },
   "file_extension": ".py",
   "mimetype": "text/x-python",
   "name": "python",
   "nbconvert_exporter": "python",
   "pygments_lexer": "ipython3",
   "version": "3.8.5"
  },
  "varInspector": {
   "cols": {
    "lenName": 16,
    "lenType": 16,
    "lenVar": 40
   },
   "kernels_config": {
    "python": {
     "delete_cmd_postfix": "",
     "delete_cmd_prefix": "del ",
     "library": "var_list.py",
     "varRefreshCmd": "print(var_dic_list())"
    },
    "r": {
     "delete_cmd_postfix": ") ",
     "delete_cmd_prefix": "rm(",
     "library": "var_list.r",
     "varRefreshCmd": "cat(var_dic_list()) "
    }
   },
   "types_to_exclude": [
    "module",
    "function",
    "builtin_function_or_method",
    "instance",
    "_Feature"
   ],
   "window_display": false
  }
 },
 "nbformat": 4,
 "nbformat_minor": 4
}
